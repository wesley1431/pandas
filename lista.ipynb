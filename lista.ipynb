{
 "cells": [
  {
   "cell_type": "markdown",
   "metadata": {},
   "source": [
    "## list(lista) [] mutavel tuple(tuple)- () imutavel set(conjuntos) - {} nao repetir \n",
    "- crei euma lista de vitoria do seu time\n",
    "- crie uma tupla de fast food\n",
    "- crie um conjunto de itens de compras do super mercado\n"
   ]
  },
  {
   "cell_type": "code",
   "execution_count": 1,
   "metadata": {},
   "outputs": [
    {
     "data": {
      "text/plain": [
       "['2021', '2010', '2015', '2020', '2019']"
      ]
     },
     "execution_count": 1,
     "metadata": {},
     "output_type": "execute_result"
    }
   ],
   "source": [
    "vitoria_saopaulo = [\"2021\", \"2010\", \"2015\", \"2020\", \"2019\"]\n",
    "vitoria_saopaulo"
   ]
  },
  {
   "cell_type": "code",
   "execution_count": 2,
   "metadata": {},
   "outputs": [
    {
     "data": {
      "text/plain": [
       "['tatu bomba', 'x tudo', 'goiannao', 'x banco']"
      ]
     },
     "execution_count": 2,
     "metadata": {},
     "output_type": "execute_result"
    }
   ],
   "source": [
    "tatu_bomba =[\"tatu bomba\", \"x tudo\", \"goiannao\", \"x banco\"]\n",
    "tatu_bomba"
   ]
  },
  {
   "cell_type": "code",
   "execution_count": 3,
   "metadata": {},
   "outputs": [
    {
     "data": {
      "text/plain": [
       "['arroz', 'feijao', 'refrigerante', 'carne', 'pao']"
      ]
     },
     "execution_count": 3,
     "metadata": {},
     "output_type": "execute_result"
    }
   ],
   "source": [
    "compras_supermercado =[\"arroz\", \"feijao\", \"refrigerante\", \"carne\", \"pao\"]\n",
    "compras_supermercado"
   ]
  },
  {
   "cell_type": "markdown",
   "metadata": {},
   "source": [
    "##  Dicionario"
   ]
  },
  {
   "cell_type": "code",
   "execution_count": 4,
   "metadata": {},
   "outputs": [
    {
     "name": "stdout",
     "output_type": "stream",
     "text": [
      "3\n"
     ]
    }
   ],
   "source": [
    "#crie um dicionario com informaçoes sobre apartamento\n",
    "apartamento= {\n",
    "\"taguatinga\":3,\n",
    "\"brazilandia\":5,\n",
    "\"vicente pires\":2\n",
    "\n",
    "}\n",
    "print(apartamento[\"taguatinga\"])"
   ]
  },
  {
   "cell_type": "code",
   "execution_count": 6,
   "metadata": {},
   "outputs": [],
   "source": [
    "apartamento[\"candangolandia\"] =4"
   ]
  },
  {
   "cell_type": "code",
   "execution_count": 7,
   "metadata": {},
   "outputs": [
    {
     "name": "stdout",
     "output_type": "stream",
     "text": [
      "taguatinga: 3\n",
      "brazilandia: 5\n",
      "vicente pires: 2\n",
      "candangolandia: 4\n"
     ]
    }
   ],
   "source": [
    "for apartamento, quantidade in apartamento. items():\n",
    "    print(f\"{apartamento}: {quantidade}\")"
   ]
  }
 ],
 "metadata": {
  "kernelspec": {
   "display_name": ".venv",
   "language": "python",
   "name": "python3"
  },
  "language_info": {
   "codemirror_mode": {
    "name": "ipython",
    "version": 3
   },
   "file_extension": ".py",
   "mimetype": "text/x-python",
   "name": "python",
   "nbconvert_exporter": "python",
   "pygments_lexer": "ipython3",
   "version": "3.12.4"
  }
 },
 "nbformat": 4,
 "nbformat_minor": 2
}
